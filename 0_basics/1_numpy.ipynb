{
 "cells": [
  {
   "cell_type": "markdown",
   "id": "d67dd768-3cc7-40eb-8b26-73515efeee79",
   "metadata": {},
   "source": [
    "## BASIC PROGRAMS (NUMPY)"
   ]
  },
  {
   "cell_type": "markdown",
   "id": "4f7ed6e3-8f99-4821-b22a-7bc4a5455b6b",
   "metadata": {},
   "source": [
    "#### 1) Broadcasting in NumPy"
   ]
  },
  {
   "cell_type": "code",
   "execution_count": 1,
   "id": "b2cd75b5-bac7-4fe6-ab16-9441014ad921",
   "metadata": {},
   "outputs": [
    {
     "name": "stdout",
     "output_type": "stream",
     "text": [
      "Multiplication with broadcasting: \n",
      "[[11 24 39]\n",
      " [21 44 69]\n",
      " [31 64 99]]\n",
      "... and now addition with broadcasting: \n",
      "[[12 14 16]\n",
      " [22 24 26]\n",
      " [32 34 36]]\n"
     ]
    }
   ],
   "source": [
    "import numpy as np\n",
    "\n",
    "A = np.array([[11, 12, 13], [21, 22, 23], [31, 32, 33]])\n",
    "B = np.array([1, 2, 3])\n",
    "\n",
    "print(\"Multiplication with broadcasting: \")\n",
    "print(A * B)\n",
    "\n",
    "print(\"... and now addition with broadcasting: \")\n",
    "print(A + B)"
   ]
  },
  {
   "cell_type": "markdown",
   "id": "2d7215ca-5eee-4de8-bd34-dc6c92d5c3e9",
   "metadata": {},
   "source": [
    "#### 2) Arithmetic & matrices operations:\n"
   ]
  },
  {
   "cell_type": "code",
   "execution_count": 2,
   "id": "b6586f3d-606c-4a59-bf77-4232e3f8ae73",
   "metadata": {},
   "outputs": [
    {
     "name": "stdout",
     "output_type": "stream",
     "text": [
      "[  7  77  23 130]\n",
      "237\n",
      "[ 3 67  3 70]\n",
      "[  10  360  130 3000]\n",
      "[ 2.5        14.4         1.3         3.33333333]\n"
     ]
    }
   ],
   "source": [
    "import numpy as np\n",
    "\n",
    "a = np.array([5, 72, 13, 100])\n",
    "b = np.array([2, 5, 10, 30])\n",
    "\n",
    "add_ans = np.add(a, b)\n",
    "print(add_ans)\n",
    "\n",
    "sum = np.sum(add_ans)\n",
    "print(sum)\n",
    "\n",
    "sub_ans = np.subtract(a, b)\n",
    "print(sub_ans)\n",
    "\n",
    "mul_ans = np.multiply(a, b)\n",
    "print(mul_ans)\n",
    "\n",
    "div_ans = np.divide(a, b)\n",
    "print(div_ans)"
   ]
  },
  {
   "cell_type": "code",
   "execution_count": 3,
   "id": "a8c17fa1-81b4-44e1-b93a-6a41a181ae71",
   "metadata": {},
   "outputs": [
    {
     "name": "stdout",
     "output_type": "stream",
     "text": [
      "mod_ans : \n",
      " [[1 3]\n",
      " [1 7]]\n",
      "rem_ans : \n",
      " [[1 3]\n",
      " [1 7]]\n",
      "pow_ans : \n",
      " [[      1     729]\n",
      " [    625 5764801]]\n",
      "result : \n",
      " [[14 30]\n",
      " [38 86]]\n",
      "result : \n",
      " [[1 5]\n",
      " [3 7]]\n"
     ]
    }
   ],
   "source": [
    "# Matrices operations:\n",
    "import numpy as np\n",
    "\n",
    "matrix1 = np.array([[1, 3], [5, 7]])\n",
    "matrix2 = np.array([[2, 6], [4, 8]])\n",
    "\n",
    "mod_ans = np.mod(matrix1, matrix2)\n",
    "print(\"mod_ans : \\n\", mod_ans)\n",
    "\n",
    "rem_ans = np.remainder(matrix1, matrix2)\n",
    "print(\"rem_ans : \\n\", rem_ans)\n",
    "\n",
    "pow_ans = np.power(matrix1, matrix2)\n",
    "print(\"pow_ans : \\n\", pow_ans)\n",
    "\n",
    "result = np.dot(matrix1, matrix2)\n",
    "print(\"result : \\n\", result)\n",
    "\n",
    "result = np.transpose(matrix1)\n",
    "print(\"result : \\n\", result)"
   ]
  },
  {
   "cell_type": "markdown",
   "id": "af5d2315-7b56-4b69-9d7a-773b62d4846f",
   "metadata": {},
   "source": [
    "#### 3) NumPy program to create a structured array from given student name, height, class, and their data types, and then sort the array by height:\n"
   ]
  },
  {
   "cell_type": "code",
   "execution_count": 4,
   "id": "4cd3f770-c439-468c-b331-3c43b2f5eeee",
   "metadata": {},
   "outputs": [
    {
     "name": "stdout",
     "output_type": "stream",
     "text": [
      "Original array:\n",
      "[(b'James', 5, 48.5 ) (b'Nail', 6, 52.5 ) (b'Paul', 5, 42.1 )\n",
      " (b'Pit', 5, 40.11)]\n",
      "Sort by height:\n",
      "[(b'Pit', 5, 40.11) (b'Paul', 5, 42.1 ) (b'James', 5, 48.5 )\n",
      " (b'Nail', 6, 52.5 )]\n"
     ]
    }
   ],
   "source": [
    "import numpy as np\n",
    "\n",
    "data_type = [('name', 'S15'), ('class', int), ('height', float)]\n",
    "students_details = [('James', 5, 48.5), ('Nail', 6, 52.5), ('Paul', 5, 42.10), ('Pit', 5, 40.11)]\n",
    "students = np.array(students_details, dtype=data_type)\n",
    "\n",
    "print(\"Original array:\")\n",
    "print(students)\n",
    "\n",
    "print(\"Sort by height:\")\n",
    "print(np.sort(students, order='height'))"
   ]
  },
  {
   "cell_type": "markdown",
   "id": "399f6298-573b-4878-8a20-54da9c576f1b",
   "metadata": {},
   "source": [
    "#### 4) Write a NumPy program to compute the determinant of a square array:\n"
   ]
  },
  {
   "cell_type": "code",
   "execution_count": 5,
   "id": "ec298e17-50e4-4e31-9970-6826a8db80eb",
   "metadata": {},
   "outputs": [
    {
     "name": "stdout",
     "output_type": "stream",
     "text": [
      "Original array:\n",
      "[(b'James', 5, 48.5 ) (b'Nail', 6, 52.5 ) (b'Paul', 5, 42.1 )\n",
      " (b'Pit', 5, 40.11)]\n",
      "Sort by height:\n",
      "[(b'Pit', 5, 40.11) (b'Paul', 5, 42.1 ) (b'James', 5, 48.5 )\n",
      " (b'Nail', 6, 52.5 )]\n"
     ]
    }
   ],
   "source": [
    "import numpy as np\n",
    "\n",
    "data_type = [('name', 'S15'), ('class', int), ('height', float)]\n",
    "students_details = [('James', 5, 48.5), ('Nail', 6, 52.5), ('Paul', 5, 42.10), ('Pit', 5, 40.11)]\n",
    "students = np.array(students_details, dtype=data_type)\n",
    "\n",
    "print(\"Original array:\")\n",
    "print(students)\n",
    "\n",
    "print(\"Sort by height:\")\n",
    "print(np.sort(students, order='height'))"
   ]
  },
  {
   "cell_type": "markdown",
   "id": "7960fadb-843f-421b-874e-c9ebf0b26607",
   "metadata": {},
   "source": [
    "#### 4) Write a NumPy program to compute the determinant of a square array:\n"
   ]
  },
  {
   "cell_type": "code",
   "execution_count": 7,
   "id": "f45a3409-7995-435c-a8e0-20de48ca8970",
   "metadata": {},
   "outputs": [
    {
     "name": "stdout",
     "output_type": "stream",
     "text": [
      "\n",
      "Determinant of given 2x2 matrix:\n",
      "1330\n"
     ]
    }
   ],
   "source": [
    "import numpy as np\n",
    "\n",
    "n_array = np.array([[50, 29], [30, 44]])\n",
    "det = np.linalg.det(n_array)\n",
    "\n",
    "print(\"\\nDeterminant of given 2x2 matrix:\")\n",
    "print(int(det))"
   ]
  },
  {
   "cell_type": "markdown",
   "id": "c3c3d6e7-cd6a-471d-8b91-2fd79a5e7e7c",
   "metadata": {},
   "source": [
    "### 5) Demonstrate NumPy indexing and slicing with an example:\n"
   ]
  },
  {
   "cell_type": "code",
   "execution_count": 8,
   "id": "98e52fb5-f366-4efd-a2a8-48384b90beb6",
   "metadata": {},
   "outputs": [
    {
     "name": "stdout",
     "output_type": "stream",
     "text": [
      "arr :  [ 0  1  2  3  4  5  6  7  8  9 10 11 12 13 14 15]\n",
      "Element at index 10 :  10\n",
      "[1 2 3 4 5 6]\n",
      "[2 4 6]\n",
      "[[1 2 3]\n",
      " [3 4 5]\n",
      " [4 5 6]]\n",
      "[[3 4 5]\n",
      " [4 5 6]]\n",
      "5\n",
      "[4 5 6]\n"
     ]
    }
   ],
   "source": [
    "import numpy as np\n",
    "\n",
    "arr = np.arange(16)\n",
    "print(\"arr : \", arr)\n",
    "\n",
    "print(\"Element at index 10 : \", arr[10])\n",
    "print(arr[1:7])\n",
    "\n",
    "import numpy as np\n",
    "\n",
    "a = np.arange(10)\n",
    "b = a[2:7:2]\n",
    "print(b)\n",
    "\n",
    "a = np.array([[1, 2, 3], [3, 4, 5], [4, 5, 6]])\n",
    "print(a)\n",
    "print(a[1:])\n",
    "print(a[1][2])\n",
    "print(a[2])"
   ]
  }
 ],
 "metadata": {
  "kernelspec": {
   "display_name": "Python 3 (ipykernel)",
   "language": "python",
   "name": "python3"
  },
  "language_info": {
   "codemirror_mode": {
    "name": "ipython",
    "version": 3
   },
   "file_extension": ".py",
   "mimetype": "text/x-python",
   "name": "python",
   "nbconvert_exporter": "python",
   "pygments_lexer": "ipython3",
   "version": "3.11.5"
  }
 },
 "nbformat": 4,
 "nbformat_minor": 5
}
